{
 "cells": [
  {
   "cell_type": "code",
   "execution_count": 1,
   "metadata": {},
   "outputs": [
    {
     "name": "stdout",
     "output_type": "stream",
     "text": [
      "Score over time: 0.5905\n",
      "Final Q-Table Values\n",
      "[[  3.68948794e-01   7.91122526e-03   9.59731365e-03   1.02779087e-02]\n",
      " [  9.55566230e-05   2.61311298e-03   1.35639974e-03   3.65959899e-01]\n",
      " [  2.35121407e-01   7.90069430e-03   6.59260639e-03   8.15202992e-03]\n",
      " [  6.50186028e-04   4.96057749e-04   4.68483946e-04   7.88222214e-03]\n",
      " [  3.81941939e-01   1.11854559e-03   4.94707530e-04   4.30850201e-04]\n",
      " [  0.00000000e+00   0.00000000e+00   0.00000000e+00   0.00000000e+00]\n",
      " [  2.60786303e-02   2.06142019e-06   6.84688771e-05   3.05456936e-05]\n",
      " [  0.00000000e+00   0.00000000e+00   0.00000000e+00   0.00000000e+00]\n",
      " [  4.45381421e-04   3.87851682e-04   1.05983774e-04   3.23067978e-01]\n",
      " [  0.00000000e+00   1.92008424e-01   0.00000000e+00   6.08832416e-03]\n",
      " [  2.51374956e-01   1.11608311e-03   1.93317870e-03   1.03544138e-03]\n",
      " [  0.00000000e+00   0.00000000e+00   0.00000000e+00   0.00000000e+00]\n",
      " [  0.00000000e+00   0.00000000e+00   0.00000000e+00   0.00000000e+00]\n",
      " [  0.00000000e+00   0.00000000e+00   6.92296590e-01   0.00000000e+00]\n",
      " [  0.00000000e+00   0.00000000e+00   7.75409586e-01   0.00000000e+00]\n",
      " [  0.00000000e+00   0.00000000e+00   0.00000000e+00   0.00000000e+00]]\n"
     ]
    }
   ],
   "source": [
    "import gym\n",
    "import numpy as np\n",
    "\n",
    "env = gym.make('FrozenLake-v0')\n",
    "\n",
    "#Initialize table with all zeros\n",
    "Q = np.zeros([env.observation_space.n,env.action_space.n])\n",
    "# Set learning parameters\n",
    "lr = .8\n",
    "y = .95\n",
    "num_episodes = 2000\n",
    "#create lists to contain total rewards and steps per episode\n",
    "#jList = []\n",
    "rList = []\n",
    "for i in range(num_episodes):\n",
    "    #Reset environment and get first new observation\n",
    "    s = env.reset()\n",
    "    rAll = 0\n",
    "    d = False\n",
    "    j = 0\n",
    "    #The Q-Table learning algorithm\n",
    "    while j < 99:\n",
    "        j+=1\n",
    "        #Choose an action by greedily (with noise) picking from Q table\n",
    "        a = np.argmax(Q[s,:] + np.random.randn(1,env.action_space.n)*(1./(i+1)))\n",
    "        #Get new state and reward from environment\n",
    "        s1,r,d,_ = env.step(a)\n",
    "        #Update Q-Table with new knowledge\n",
    "        Q[s,a] = Q[s,a] + lr*(r + y*np.max(Q[s1,:]) - Q[s,a])\n",
    "        rAll += r\n",
    "        s = s1\n",
    "        if d == True:\n",
    "            break\n",
    "    #jList.append(j)\n",
    "    rList.append(rAll)\n",
    "    \n",
    "print(\"Score over time: \" +  str(sum(rList)/num_episodes))\n",
    "print(\"Final Q-Table Values\")\n",
    "print(Q)"
   ]
  },
  {
   "cell_type": "code",
   "execution_count": 10,
   "metadata": {},
   "outputs": [
    {
     "name": "stdout",
     "output_type": "stream",
     "text": [
      "a: \n",
      "[2]\n",
      "allQ: \n",
      "[[ 0.00309126  0.00357311  0.00987601  0.00348995]]\n",
      "Q1: \n",
      "[[ 0.00309126  0.00357311  0.00987601  0.00348995]]\n",
      "a: \n",
      "[2]\n",
      "allQ: \n",
      "[[ 0.00309126  0.00357311  0.00985625  0.00348995]]\n",
      "Q1: \n",
      "[[ 0.00309126  0.00357311  0.00985625  0.00348995]]\n",
      "a: \n",
      "[2]\n",
      "allQ: \n",
      "[[ 0.00309126  0.00357311  0.00983654  0.00348995]]\n",
      "Q1: \n",
      "[[ 0.00963196  0.00483915  0.00252268  0.00755563]]\n",
      "a: \n",
      "[0]\n",
      "allQ: \n",
      "[[ 0.00963196  0.00483915  0.00252268  0.00755563]]\n",
      "Q1: \n",
      "[[  7.49934884e-03   5.56243304e-03   5.90646268e-05   8.63968488e-03]]\n",
      "a: \n",
      "[3]\n",
      "allQ: \n",
      "[[  7.49934884e-03   5.56243304e-03   5.90646268e-05   8.63968488e-03]]\n",
      "Q1: \n",
      "[[  7.49934884e-03   5.56243304e-03   5.90646268e-05   8.63968488e-03]]\n",
      "a: \n",
      "[3]\n",
      "allQ: \n",
      "[[  7.49934884e-03   5.56243304e-03   5.90646268e-05   8.62240512e-03]]\n",
      "Q1: \n",
      "[[ 0.00941623  0.00483915  0.00252268  0.00755563]]\n",
      "a: \n",
      "[0]\n",
      "allQ: \n",
      "[[ 0.00941623  0.00483915  0.00252268  0.00755563]]\n",
      "Q1: \n",
      "[[ 0.00309126  0.00357311  0.00977636  0.00348995]]\n",
      "a: \n",
      "[2]\n",
      "allQ: \n",
      "[[ 0.00309126  0.00357311  0.00977636  0.00348995]]\n",
      "Q1: \n",
      "[[ 0.00670529  0.00957159  0.00961546  0.00888571]]\n",
      "a: \n",
      "[2]\n",
      "allQ: \n",
      "[[ 0.00670529  0.00957159  0.00961546  0.00888571]]\n",
      "Q1: \n",
      "[[ 0.00670529  0.00957159  0.00961546  0.00888571]]\n",
      "a: \n",
      "[2]\n",
      "allQ: \n",
      "[[ 0.00670529  0.00957159  0.00959623  0.00888571]]\n",
      "Q1: \n",
      "[[ 0.00425477  0.00335743  0.00763302  0.00694292]]\n",
      "a: \n",
      "[2]\n",
      "allQ: \n",
      "[[ 0.00425477  0.00335743  0.00763302  0.00694292]]\n",
      "Q1: \n",
      "[[ 0.00708608  0.00996742  0.00623475  0.00449397]]\n",
      "a: \n",
      "[1]\n",
      "allQ: \n",
      "[[ 0.00708608  0.00996742  0.00623475  0.00449397]]\n",
      "Q1: \n",
      "[[ 0.00964687  0.00572454  0.00378526  0.00959788]]\n",
      "a: \n",
      "[2]\n",
      "allQ: \n",
      "[[ 0.00309126  0.00357311  0.00972495  0.00348995]]\n",
      "Q1: \n",
      "[[ 0.00670529  0.00957159  0.00918832  0.00888571]]\n",
      "a: \n",
      "[1]\n",
      "allQ: \n",
      "[[ 0.00670529  0.00957159  0.00918832  0.00888571]]\n",
      "Q1: \n",
      "[[ 0.00309126  0.00357311  0.00967513  0.00348995]]\n",
      "a: \n",
      "[2]\n",
      "allQ: \n",
      "[[ 0.00309126  0.00357311  0.00967513  0.00348995]]\n",
      "Q1: \n",
      "[[ 0.0094687   0.00483915  0.00252268  0.00755563]]\n",
      "a: \n",
      "[0]\n",
      "allQ: \n",
      "[[ 0.0094687   0.00483915  0.00252268  0.00755563]]\n",
      "Q1: \n",
      "[[  7.49934884e-03   5.56243304e-03   5.90646268e-05   8.76233727e-03]]\n",
      "a: \n",
      "[3]\n",
      "allQ: \n",
      "[[  7.49934884e-03   5.56243304e-03   5.90646268e-05   8.76233727e-03]]\n",
      "Q1: \n",
      "[[ 0.00910615  0.00541663  0.00121524  0.00795806]]\n",
      "a: \n",
      "[0]\n",
      "allQ: \n",
      "[[ 0.00910615  0.00541663  0.00121524  0.00795806]]\n",
      "Q1: \n",
      "[[ 0.00143487  0.00842041  0.00799071  0.00867272]]\n",
      "Percent of succesful episodes: 0.0%\n"
     ]
    },
    {
     "data": {
      "text/plain": [
       "[<matplotlib.lines.Line2D at 0x20d69adb208>]"
      ]
     },
     "execution_count": 10,
     "metadata": {},
     "output_type": "execute_result"
    },
    {
     "data": {
      "image/png": "[encoded data removed]",
      "text/plain": [
       "<matplotlib.figure.Figure at 0x20d69a819e8>"
      ]
     },
     "metadata": {},
     "output_type": "display_data"
    }
   ],
   "source": [
    "import gym\n",
    "import numpy as np\n",
    "import random\n",
    "import tensorflow as tf\n",
    "import matplotlib.pyplot as plt\n",
    "%matplotlib inline\n",
    "\n",
    "\n",
    "env = gym.make('FrozenLake-v0')\n",
    "\n",
    "tf.reset_default_graph()\n",
    "\n",
    "#These lines establish the feed-forward part of the network used to choose actions\n",
    "inputs1 = tf.placeholder(shape=[1,16],dtype=tf.float32)\n",
    "W = tf.Variable(tf.random_uniform([16,4],0,0.01))\n",
    "Qout = tf.matmul(inputs1,W)\n",
    "predict = tf.argmax(Qout,1)\n",
    "\n",
    "#Below we obtain the loss by taking the sum of squares difference between the target and prediction Q values.\n",
    "nextQ = tf.placeholder(shape=[1,4],dtype=tf.float32)\n",
    "loss = tf.reduce_sum(tf.square(nextQ - Qout))\n",
    "trainer = tf.train.GradientDescentOptimizer(learning_rate=0.1)\n",
    "updateModel = trainer.minimize(loss)\n",
    "\n",
    "\n",
    "init = tf.global_variables_initializer()\n",
    "\n",
    "# Set learning parameters\n",
    "y = .99\n",
    "e = 0.1\n",
    "num_episodes = 2\n",
    "#create lists to contain total rewards and steps per episode\n",
    "jList = []\n",
    "rList = []\n",
    "with tf.Session() as sess:\n",
    "    sess.run(init)\n",
    "    for i in range(num_episodes):\n",
    "        #Reset environment and get first new observation\n",
    "        s = env.reset()\n",
    "        rAll = 0\n",
    "        d = False\n",
    "        j = 0\n",
    "        #The Q-Network\n",
    "        while j < 99:\n",
    "            j+=1\n",
    "            #Choose an action by greedily (with e chance of random action) from the Q-network\n",
    "            a,allQ = sess.run([predict,Qout],feed_dict={inputs1:np.identity(16)[s:s+1]})\n",
    "            print('a: ')\n",
    "            print(a)\n",
    "            print('allQ: ')\n",
    "            print(allQ)\n",
    "            if np.random.rand(1) < e:\n",
    "                a[0] = env.action_space.sample()\n",
    "            #Get new state and reward from environment\n",
    "            s1,r,d,_ = env.step(a[0])\n",
    "            #Obtain the Q' values by feeding the new state through our network\n",
    "            Q1 = sess.run(Qout,feed_dict={inputs1:np.identity(16)[s1:s1+1]})\n",
    "            print('Q1: ')\n",
    "            print(Q1)\n",
    "            #Obtain maxQ' and set our target value for chosen action.\n",
    "            maxQ1 = np.max(Q1)\n",
    "            targetQ = allQ\n",
    "            targetQ[0,a[0]] = r + y*maxQ1\n",
    "            #Train our network using target and predicted Q values\n",
    "            _,W1 = sess.run([updateModel,W],feed_dict={inputs1:np.identity(16)[s:s+1],nextQ:targetQ})\n",
    "            rAll += r\n",
    "            s = s1\n",
    "            if d == True:\n",
    "                #Reduce chance of random action as we train the model.\n",
    "                e = 1./((i/50) + 10)\n",
    "                break\n",
    "        jList.append(j)\n",
    "        rList.append(rAll)\n",
    "print(\"Percent of succesful episodes: \" + str(sum(rList)/num_episodes) + \"%\")\n",
    "\n",
    "plt.plot(rList)"
   ]
  },
  {
   "cell_type": "code",
   "execution_count": 4,
   "metadata": {},
   "outputs": [
    {
     "data": {
      "text/plain": [
       "[<matplotlib.lines.Line2D at 0x20d607d8160>]"
      ]
     },
     "execution_count": 4,
     "metadata": {},
     "output_type": "execute_result"
    },
    {
     "data": {
      "image/png": "[encoded data removed]",
      "text/plain": [
       "<matplotlib.figure.Figure at 0x20d59920128>"
      ]
     },
     "metadata": {},
     "output_type": "display_data"
    }
   ],
   "source": [
    "plt.plot(jList)"
   ]
  },
  {
   "cell_type": "code",
   "execution_count": 7,
   "metadata": {},
   "outputs": [
    {
     "data": {
      "text/plain": [
       "array([[ 0.,  0.,  0.,  0.,  0.,  0.,  0.,  0.,  0.,  0.,  0.,  0.,  0.,\n",
       "         0.,  0.,  1.]])"
      ]
     },
     "execution_count": 7,
     "metadata": {},
     "output_type": "execute_result"
    }
   ],
   "source": [
    "np.identity(16)[15:16]"
   ]
  },
  {
   "cell_type": "code",
   "execution_count": null,
   "metadata": {},
   "outputs": [],
   "source": []
  }
 ],
 "metadata": {
  "kernelspec": {
   "display_name": "Python 3",
   "language": "python",
   "name": "python3"
  },
  "language_info": {
   "codemirror_mode": {
    "name": "ipython",
    "version": 3
   },
   "file_extension": ".py",
   "mimetype": "text/x-python",
   "name": "python",
   "nbconvert_exporter": "python",
   "pygments_lexer": "ipython3",
   "version": "3.6.3"
  }
 },
 "nbformat": 4,
 "nbformat_minor": 2
}

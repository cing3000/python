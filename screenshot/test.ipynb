{
 "cells": [
  {
   "cell_type": "code",
   "execution_count": 8,
   "metadata": {},
   "outputs": [
    {
     "name": "stdout",
     "output_type": "stream",
     "text": [
      "Elasped (0) : 22.7FPS\n",
      "Elasped (1) : 24.4FPS\n",
      "Elasped (2) : 20.8FPS\n",
      "Elasped (3) : 20.4FPS\n",
      "Elasped (4) : 19.6FPS\n",
      "Elasped (5) : 19.6FPS\n",
      "Elasped (6) : 27.0FPS\n",
      "Elasped (7) : 26.3FPS\n",
      "Elasped (8) : 28.6FPS\n",
      "Elasped (9) : 23.3FPS\n",
      "Elasped (10) : 23.3FPS\n",
      "Elasped (11) : 20.8FPS\n",
      "Elasped (12) : 18.5FPS\n",
      "Elasped (13) : 20.8FPS\n",
      "Elasped (14) : 18.9FPS\n",
      "Elasped (15) : 20.8FPS\n",
      "Elasped (16) : 19.6FPS\n",
      "Elasped (17) : 14.7FPS\n",
      "Elasped (18) : 19.2FPS\n",
      "Elasped (19) : 17.5FPS\n"
     ]
    }
   ],
   "source": [
    "from PIL import ImageGrab\n",
    "from IPython.display import display, Image\n",
    "import time\n",
    "\n",
    "for i in range(0, 20):\n",
    "    t = time.time()\n",
    "    pic = ImageGrab.grab()\n",
    "    elapsed = time.time() - t\n",
    "    print('Elasped (%d) : %.1fFPS' % (i, 1/elapsed))\n",
    "    time.sleep(0.5)\n",
    "\n",
    "\n"
   ]
  },
  {
   "cell_type": "code",
   "execution_count": 10,
   "metadata": {},
   "outputs": [
    {
     "name": "stdout",
     "output_type": "stream",
     "text": [
      "Elasped (0) : 13.3FPS\n",
      "Elasped (1) : 52.6FPS\n",
      "Elasped (2) : 15.9FPS\n",
      "Elasped (3) : 13.9FPS\n",
      "Elasped (4) : 35.7FPS\n",
      "Elasped (5) : 15.6FPS\n",
      "Elasped (6) : 29.4FPS\n",
      "Elasped (7) : 62.5FPS\n",
      "Elasped (8) : 31.2FPS\n",
      "Elasped (9) : 52.6FPS\n",
      "Elasped (10) : 55.6FPS\n",
      "Elasped (11) : 55.6FPS\n",
      "Elasped (12) : 34.5FPS\n",
      "Elasped (13) : 66.7FPS\n",
      "Elasped (14) : 58.8FPS\n",
      "Elasped (15) : 45.4FPS\n",
      "Elasped (16) : 31.2FPS\n",
      "Elasped (17) : 34.5FPS\n",
      "Elasped (18) : 62.5FPS\n",
      "Elasped (19) : 45.5FPS\n"
     ]
    }
   ],
   "source": [
    "import win32gui, win32ui, win32con, win32api\n",
    "from IPython.display import display, Image\n",
    "\n",
    "hwin = win32gui.GetDesktopWindow()\n",
    "#width = win32api.GetSystemMetrics(win32con.SM_CXVIRTUALSCREEN)\n",
    "#height = win32api.GetSystemMetrics(win32con.SM_CYVIRTUALSCREEN)\n",
    "\n",
    "width = win32api.GetSystemMetrics(win32con.SM_CXFULLSCREEN)\n",
    "height = win32api.GetSystemMetrics(win32con.SM_CYFULLSCREEN)\n",
    "left = 0 # win32api.GetSystemMetrics(win32con.SM_XVIRTUALSCREEN)\n",
    "top = 0 # win32api.GetSystemMetrics(win32con.SM_YVIRTUALSCREEN)\n",
    "\n",
    "hwindc = win32gui.GetWindowDC(hwin)\n",
    "srcdc = win32ui.CreateDCFromHandle(hwindc)\n",
    "memdc = srcdc.CreateCompatibleDC()\n",
    "bmp = win32ui.CreateBitmap()\n",
    "bmp.CreateCompatibleBitmap(srcdc, width, height)\n",
    "memdc.SelectObject(bmp)\n",
    "\n",
    "import time\n",
    "\n",
    "for i in range(0, 20):\n",
    "    t = time.time()\n",
    "    memdc.BitBlt((0, 0), (width, height), srcdc, (left, top), win32con.SRCCOPY)\n",
    "    # bmp.SaveBitmapFile(memdc, 's%d.bmp' % i)\n",
    "    elapsed = time.time() - t\n",
    "    print('Elasped (%d) : %.1fFPS' % (i, 1/elapsed))\n",
    "    time.sleep(0.5)\n",
    "\n",
    "\n",
    "\n"
   ]
  },
  {
   "cell_type": "code",
   "execution_count": 4,
   "metadata": {
    "scrolled": true
   },
   "outputs": [],
   "source": [
    "import PyHook3, pythoncom\n",
    "import win32api, win32gui, win32con\n",
    "import time\n",
    "\n",
    "g_flag = True\n",
    "\n",
    "def onKeyboardEvent(event):\n",
    "    \n",
    "    global g_flag, hm\n",
    "    \n",
    "    if (event.KeyID == 192):\n",
    "        (x, y) = win32gui.GetCursorPos()\n",
    "        win32api.mouse_event(win32con.MOUSEEVENTF_LEFTDOWN,x,y,0,0)\n",
    "        win32api.mouse_event(win32con.MOUSEEVENTF_LEFTUP,x,y,0,0)\n",
    "    elif (event.KeyID == 96):\n",
    "        g_flag = False\n",
    "        hm.UnhookKeyboard()\n",
    "    \n",
    "    return True\n",
    "\n",
    "hm = PyHook3.HookManager()\n",
    "hm.KeyDown = onKeyboardEvent\n",
    "hm.HookKeyboard()\n",
    "\n",
    "while g_flag:\n",
    "    pythoncom.PumpWaitingMessages()"
   ]
  },
  {
   "cell_type": "code",
   "execution_count": 6,
   "metadata": {
    "collapsed": true
   },
   "outputs": [],
   "source": [
    "import win32api\n",
    "import time\n",
    "import math\n",
    "\n",
    "for i in range(5000):\n",
    "    x = int(500+math.sin(math.pi*i/2500)*300)\n",
    "    y = int(500+math.cos(math.pi*i/2500)*300)\n",
    "    win32api.SetCursorPos((x,y))\n",
    "    time.sleep(0.01)"
   ]
  },
  {
   "cell_type": "code",
   "execution_count": null,
   "metadata": {
    "collapsed": true
   },
   "outputs": [],
   "source": []
  }
 ],
 "metadata": {
  "kernelspec": {
   "display_name": "Python 3",
   "language": "python",
   "name": "python3"
  },
  "language_info": {
   "codemirror_mode": {
    "name": "ipython",
    "version": 3
   },
   "file_extension": ".py",
   "mimetype": "text/x-python",
   "name": "python",
   "nbconvert_exporter": "python",
   "pygments_lexer": "ipython3",
   "version": "3.5.3"
  }
 },
 "nbformat": 4,
 "nbformat_minor": 2
}

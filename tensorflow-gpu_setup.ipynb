{
 "cells": [
  {
   "cell_type": "markdown",
   "metadata": {},
   "source": [
    "# How to setup TensorFlow (GPU) environment with Jupyter Notebook"
   ]
  },
  {
   "cell_type": "markdown",
   "metadata": {},
   "source": [
    "1. Install Anaconda 3\n",
    "2. Install cuda, e.g. cuda_8.0.61_windows.exe\n",
    "3. Download cuDNN, extract everything to cuda folders (bin, lib, include). Make sure that cuda/bin folder has alread been added to path\n",
    "4. Create a new environments with:\n",
    "    C:\\conda create -n tensorflow python=3.5\n",
    "5. Then, activate the environment\n",
    "    C:\\activate tensorflow\n",
    "6. Install tensorflow(-gpu)\n",
    "    pip install --ignore-installed --upgrade tensorflow\n",
    "    pip install --ignore-installed --upgrade tensorflow-gpu\n",
    "7. Install jupyter-notebook\n",
    "    pip install jupyter\n",
    "8. Run below code to make everything is okay."
   ]
  },
  {
   "cell_type": "code",
   "execution_count": null,
   "metadata": {
    "scrolled": false
   },
   "outputs": [],
   "source": [
    "import tensorflow as tf\n",
    "sess = tf.Session(config=tf.ConfigProto(log_device_placement=True))\n",
    "print(tf.__version__)"
   ]
  },
  {
   "cell_type": "markdown",
   "metadata": {},
   "source": [
    "Also in Jupyter Notebook output windows, we should see something similar to this:\n",
    "    Device mapping: ....\n",
    "It should be able to map to your GPU. If anything went wrong, use below code to check packages installed and OS %PATH% variable."
   ]
  },
  {
   "cell_type": "code",
   "execution_count": null,
   "metadata": {
    "scrolled": true
   },
   "outputs": [],
   "source": [
    "import pip\n",
    "import os\n",
    "\n",
    "print(os.environ)\n",
    "installed_packages = pip.get_installed_distributions()\n",
    "installed_packages_list = sorted([\"%s==%s\" % (i.key, i.version)\n",
    "     for i in installed_packages])\n",
    "print(installed_packages_list)"
   ]
  },
  {
   "cell_type": "code",
   "execution_count": null,
   "metadata": {
    "collapsed": true
   },
   "outputs": [],
   "source": []
  }
 ],
 "metadata": {
  "kernelspec": {
   "display_name": "Python 3",
   "language": "python",
   "name": "python3"
  },
  "language_info": {
   "codemirror_mode": {
    "name": "ipython",
    "version": 3
   },
   "file_extension": ".py",
   "mimetype": "text/x-python",
   "name": "python",
   "nbconvert_exporter": "python",
   "pygments_lexer": "ipython3",
   "version": "3.5.3"
  }
 },
 "nbformat": 4,
 "nbformat_minor": 2
}
